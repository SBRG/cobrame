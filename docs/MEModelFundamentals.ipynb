{
 "cells": [
  {
   "cell_type": "markdown",
   "metadata": {},
   "source": [
    "# ME-model Fundamentals\n",
    "\n",
    "\n",
    "Models of metabolism and expression (ME-models) are unique in that they are capable \n",
    "of predicting the optimal macromolecular expression\n",
    "required to sustain a metabolic phenotype. In other words, they are capable of making novel\n",
    "predictions of the amount of individual protein, nucleotides, cofactors, etc. that the cell must\n",
    "synthesize in order to grow optimally. To enable these types of predictions, ME-models differ\n",
    "from metabolic models (M-models) in a few key ways:\n",
    "\n",
    "1. ME-models are multi-scale in nature so they require the addition of *coupling constraints* to\n",
    "couple cellular processes to each other.\n",
    "\n",
    "2. ME-models predict the biomass composition of a growing cell thus forgoing much of the\n",
    "M-model biomass composition function. For this reason, the function representing growth\n",
    "needs to be updated.\n",
    "\n",
    "These two ME-model features are briefly described below. Their practical implementation is further outlined in **Building a ME-model**."
   ]
  },
  {
   "cell_type": "markdown",
   "metadata": {},
   "source": [
    "## Coupling Constraints\n",
    "\n",
    "\n",
    "Coupling constraints are required in an ME-model in order to couple a reaction flux to the synthesis of the macromolecule catalyzing the flux. The easiest example of this is for the coupling of metabolic enzymes to metabolic reactions. This has the form:"
   ]
  },
  {
   "cell_type": "markdown",
   "metadata": {
    "raw_mimetype": "text/markdown"
   },
   "source": [
    "$$\\frac{\\mu}{k_{eff}}$$"
   ]
  },
  {
   "cell_type": "markdown",
   "metadata": {},
   "source": [
    "where $\\mu$ is the growth rate and $k_{eff}$ is an approximation of the effective turnover rate for the metabolic process. The coupling of enzyme synthesis cost to metabolic flux scales with $\\mu$ to represent the dilution of macromolecules as they are passed on the daughter cells. More macromolecules are therefore diluted at faster growth rates. Enzyme turnover rates determine the efficiency of an enzyme *in vivo* and are largly unknown for a majority of metabolic and expression-related enzymes. Optimizing the vector of $k_{eff}s$ for the cellular processes modeled in the ME-model is an ongoing area of research. \n",
    "\n",
    "Currently for the *E. coli* ME-model, the $k_{eff}s$ are set with an average of 65 $s^{-1}$ and scaled by their solvent accessible surface area (approximated as $protein\\_moleculare\\_weight^{\\frac{3}{4}}$). A set ~125 metabolic $k_{eff}s$ were found by [Ebrahim et. al. 2016](https://www.ncbi.nlm.nih.gov/pubmed/27782110?dopt=Abstract) to be particularly important in *E. coli* for computing an accurate metabolic/proteomic state using proteomics data. We suspect similar observations would be seen in other organisms.\n",
    "\n",
    "For non metabolic macromolecules such as ribosome, mRNA, tRNA and RNA polymerase, the coupling constrains coefficients ('$k_{eff}s$') are derived by essentially back-calculating the individual rates using a measured RNA-to-Protein ratio from [Scott et. al. 2010](https://www.ncbi.nlm.nih.gov/pubmed/21097934) and measured mRNA, tRNA and rRNA fractions. The coupling constraints coefficients for these macromolecules are derived in detail in [O'Brien et. al. 2013](https://www.ncbi.nlm.nih.gov/pubmed/24084808). Applying these constraints results in a final nonlinear optimization problem (NLP) shown below. COBRAme reformulates these coupling constraints to embed them directly into the reaction which they are used as follows:"
   ]
  },
  {
   "cell_type": "markdown",
   "metadata": {
    "raw_mimetype": "text/markdown"
   },
   "source": [
    "\\begin{align*}\n",
    "\\max_{v,\\mu} \\ & \\mu \\\\\n",
    "\\mathrm{s.t.} \\ & Sv = 0 \\\\\n",
    "& v_{\\mathrm{formation},\\mathrm{Ribosome}} - \\sum_{i \\in Peptide}\n",
    "          \\left( \\frac{l_{p,i}}{c_{\\mathrm{ribo}}\\kappa_{\\tau}}\n",
    "                 (\\mu+r_0\\kappa_{\\tau}) \\cdot v_{\\mathrm{translation},i}\n",
    "          \\right) = 0\\\\\n",
    "& v_{\\mathrm{formation},\\mathrm{RNAP}} - \\sum_{i \\in TU}\n",
    "          \\left( \\frac{l_{\\mathrm{TU},i}}{3 c_\\mathrm{ribo}\\kappa_{\\tau}}\n",
    "                 (\\mu+r_0\\kappa_{\\tau}) \\cdot v_{\\mathrm{transcription},i}\n",
    "          \\right) = 0\\\\\n",
    "& v_{\\mathrm{formation}, j} \\\\\n",
    "& \\quad - \\sum_{i\\in \\mathrm{generic\\_tRNA}_{AA}}\\left( \\left(1 + \\frac{\\mu}{k_{eff,tRNA}}\\right) \\frac{\\mu}{k_{eff,charging}} v_{\\mathrm{charging},i} \\right)= 0, \\\\\n",
    "& \\qquad \\forall j \\in Synthetase \\\\\n",
    "& v_{\\mathrm{formation},j} -  \\sum_{i \\in \\text{enzymatic reaction}} \\left( \\frac{ \\mu}{k^\\mathrm{eff}_{ij}} v_{\\mathrm{usage},i} \\right) = 0,  \\quad \\forall j \\in Enzyme \\\\\n",
    "& v_{\\mathrm{formation},j} -  \\sum_{i \\in \\text{tRNA anticodons}} \\frac{(\\mu + \\kappa_{\\tau} r_0)}{\\kappa_{\\tau} c_{tRNA,j}}  v_{charging,i}  = 0 , \\quad \\forall j \\in tRNA\\\\\n",
    "& v_{\\mathrm{degredation},j} -  \\frac{k_{deg,j}}{3 \\kappa_{\\tau} c_{mRNA}} \\cdot \\frac{\\mu + \\kappa_{\\tau} r_0}{\\mu} v_{translation,j}  = 0, \\quad  \\forall j \\in mRNA \\\\\n",
    "& v_{\\mathrm{formation},j} -  \\frac{(\\mu + \\kappa_{\\tau} r_0)}{3 \\kappa_{\\tau} c_{mRNA}} v_{translation,j}  = 0, \\quad  \\forall j \\in mRNA \\\\\n",
    "& v^{L} \\leq v \\leq v^{U} \\\\\n",
    "& \\mu \\leq v_{biomass\\_dilution} \\leq \\mu \n",
    "\\end{align*}"
   ]
  },
  {
   "cell_type": "markdown",
   "metadata": {},
   "source": [
    "The biomass_dilution constraint is discussed below.\n",
    "\n",
    "### Previous ME-model Coupling Constraint Implementation\n",
    "The previous iterations of ME-models applied coupling constraints using three separate reactions. An example for a generic \"enzymatic reaction\" could be represented as follows:"
   ]
  },
  {
   "cell_type": "markdown",
   "metadata": {
    "raw_mimetype": "text/restructuredtext"
   },
   "source": [
    "$$\n",
    "\\textbf{Enzyme Priming:  }   \\mathrm{enzyme} \\xrightarrow{v0} \\mathrm{enzyme\\_primed + } \\alpha \\cdot \\mathrm{coupling} \\\\\n",
    "\\textbf{Enzymatic Reaction:  }  \\mathrm{a + enzyme\\_primed} \\xrightarrow{v1} \\textrm{enzyme + b}\\\\\n",
    "\\textbf{Dilution Coupling Reaction:  }  \\textrm{enzyme + coupling} \\xrightarrow{v2} \\emptyset \n",
    "$$"
   ]
  },
  {
   "cell_type": "markdown",
   "metadata": {},
   "source": [
    "Where  $\\alpha$ is the coupling coefficient applied to \"coupling\", a metabolite (constraint) which effectively determines the minimal rate that the third dilution coupling reaction ($v2$) must proceed. For previous ME-model implementations, this coupling constraint was given a \"_constraint_sense\" in COBRApy of 'L' (less than or equal to) meaning that for this toy example $v0 = v1$ and $v2 \\geq \\alpha \\cdot v1$. \n",
    "\n",
    "### COBRAme Coupling Constraint Implementation\n",
    "With COBRAme it is assumed that the optimal ME solution will never dilute more enzyme than is required by the coupling constraint thus constraining $v2 = \\alpha \\cdot v1$ and allowing us to combine the implementation of the constraint with the reaction that uses the enzyme to give."
   ]
  },
  {
   "cell_type": "markdown",
   "metadata": {
    "raw_mimetype": "text/restructuredtext"
   },
   "source": [
    "$$ \\textrm{a} + \\alpha \\cdot \\textrm{enzyme} \\xrightarrow{v1} \\textrm{ b}$$ "
   ]
  },
  {
   "cell_type": "markdown",
   "metadata": {},
   "source": [
    "The coupling constraints and coefficients were derived as in [O'Brien et. al. 2013](https://www.ncbi.nlm.nih.gov/pubmed/24084808).  As stated above, however, these were implemented in the current study as equality constraints . Effectively, this means that each ME-model solution will give the computed optimal proteome allocation for the *in silico* conditions. Previous ME-model formulations have applied the constraints as inequalities thus allowing the simulation to overproduce macromolecule components. While overproduction is seen *in vivo* in cells, this phenomenon would not be selected as the optimal solution. Furthermore, using inequality constraints greatly expands the size of the possible solution space significantly increasing the time required to solve the optimization.  Reformulating the model using equality constraints thus resulted in a reduced ME-matrix with the coupling constraints embedded directly into the reaction in which they are used."
   ]
  },
  {
   "cell_type": "markdown",
   "metadata": {
    "collapsed": true
   },
   "source": [
    "## Biomass Dilution Constraints\n",
    "For metabolic models (M-models), the biomass objective function has been used to represent the amount of biomass\n",
    "production that is required for the cell to double at a specified rate. The metabolites represented in the biomass function are typically building blocks for major macromolecules (e.g. amino acids and nucleotides), cell wall components and cofactors. The coefficients of the biomass objective function are determined from empirical measurements from a cell growing at a measured rate. Since ME-models explicitly compute the predicted amount of RNA, protein, cofactors, etc. necessary for growth, this concept has to be modified for ME-models.\n",
    "\n",
    "This is accomplished via the *biomass_dilution* variable (reaction), which contains a *biomass* constraint (pseudo metabolite) that represents the mass produced by the synthesis of each functional RNA or protein. This reaction essentially ensured that the ME-model can only produce biomass at the rate it is being diluted (via growth and division)."
   ]
  },
  {
   "cell_type": "markdown",
   "metadata": {},
   "source": [
    "### Implementation\n",
    "For each transcription or translation reaction in an ME-model an amount of a *biomass* constraint (pseudo\n",
    "metabolite) is created with a stoichiometry equal to the molecular weight of the mRNA or protein being made (in\n",
    "*kDA*). The below figure shows an example of this where a translation reaction produces both the catalytic protein\n",
    "as well as the protein biomass constraint. The formed *protein_biomass* constraint is a participant in the overall ME-model *Biomas_ Dilution* reaction which restricts the total production of the major biomass components to equal the rate at which biomass is diluted (i.e. the cell’s growth rate, $\\mu$).\n",
    "\n",
    "Some biomass constituents do not have a mechanistic function in the ME-model (e.g. cell wall components, DNA\n",
    "and glycogen). These metabolites are included in the *biomass_dilution* reaction indentical to the M-model biomass\n",
    "reaction .\n",
    "\n",
    "![Biomass Dilution for iJO1366 and for a ME-model](./_static/Biomass_constraint_figure.png)\n"
   ]
  },
  {
   "cell_type": "markdown",
   "metadata": {},
   "source": [
    "### Unit Check\n",
    "The units for this contraint work out as follows:\n",
    "\n",
    "The units of a given reaction in the ME-model are in molecules per hour."
   ]
  },
  {
   "cell_type": "markdown",
   "metadata": {
    "raw_mimetype": "text/restructuredtext"
   },
   "source": [
    "$$v_i \\Rightarrow \\frac{mmol}{gDW \\cdot hr}$$"
   ]
  },
  {
   "cell_type": "markdown",
   "metadata": {},
   "source": [
    "The individual components of the biomass dilution constraints are in units of *kDa*."
   ]
  },
  {
   "cell_type": "markdown",
   "metadata": {
    "raw_mimetype": "text/restructuredtext"
   },
   "source": [
    "$$molecular\\_weight \\Rightarrow kDA[\\frac{g}{mmol}]$$"
   ]
  },
  {
   "cell_type": "markdown",
   "metadata": {},
   "source": [
    "Therefore, when the *biomass dilution* variable (reaction) carries flux it gives units of $hr^{-1}$ representing the growth rateof the cell, $\\mu$"
   ]
  },
  {
   "cell_type": "markdown",
   "metadata": {
    "raw_mimetype": "text/restructuredtext"
   },
   "source": [
    "$$molecular\\_weight \\cdot v_i \\Rightarrow hr^{-1}[\\mu]$$"
   ]
  }
 ],
 "metadata": {
  "celltoolbar": "Raw Cell Format",
  "kernelspec": {
   "display_name": "python3.6",
   "language": "python",
   "name": "python3.6"
  },
  "language_info": {
   "codemirror_mode": {
    "name": "ipython",
    "version": 3
   },
   "file_extension": ".py",
   "mimetype": "text/x-python",
   "name": "python",
   "nbconvert_exporter": "python",
   "pygments_lexer": "ipython3",
   "version": "3.6.3"
  }
 },
 "nbformat": 4,
 "nbformat_minor": 2
}
